{
 "cells": [
  {
   "cell_type": "code",
   "execution_count": 93,
   "metadata": {},
   "outputs": [],
   "source": [
    "import numpy as np\n",
    "import pandas as pd\n",
    "import datetime as dt\n",
    "from datetime import timedelta\n",
    "import matplotlib.pyplot as plt\n",
    "import random\n",
    "from patsy import dmatrices\n",
    "from sklearn.model_selection import train_test_split, GridSearchCV\n",
    "from sklearn.ensemble.partial_dependence import partial_dependence, plot_partial_dependence\n",
    "from sklearn.ensemble import RandomForestClassifier\n",
    "from sklearn.preprocessing import PolynomialFeatures\n",
    "from sklearn.linear_model import LogisticRegression\n",
    "from sklearn.metrics import log_loss"
   ]
  },
  {
   "cell_type": "code",
   "execution_count": 3,
   "metadata": {},
   "outputs": [],
   "source": [
    "ip_df = pd.read_csv('IpAddress_to_Country.csv')"
   ]
  },
  {
   "cell_type": "code",
   "execution_count": 4,
   "metadata": {},
   "outputs": [],
   "source": [
    "fraud_df = pd.read_csv('Fraud_Data.csv')"
   ]
  },
  {
   "cell_type": "code",
   "execution_count": 5,
   "metadata": {},
   "outputs": [],
   "source": [
    "ip_df['upper_lower'] = list(zip(ip_df.loc[:,'lower_bound_ip_address'], ip_df.loc[:, 'upper_bound_ip_address']))"
   ]
  },
  {
   "cell_type": "code",
   "execution_count": 6,
   "metadata": {},
   "outputs": [],
   "source": [
    "dict_df = ip_df.loc[:, ['country', 'upper_lower']]"
   ]
  },
  {
   "cell_type": "markdown",
   "metadata": {},
   "source": [
    "Map IP addresses to the corresponding country in a dictionary"
   ]
  },
  {
   "cell_type": "code",
   "execution_count": 7,
   "metadata": {},
   "outputs": [],
   "source": [
    "d = dict_df.groupby('upper_lower')['country'].apply(list).to_dict()\n"
   ]
  },
  {
   "cell_type": "markdown",
   "metadata": {},
   "source": [
    "#### Create a function to extract countries from ip addresses using ip address dictionary"
   ]
  },
  {
   "cell_type": "code",
   "execution_count": 8,
   "metadata": {},
   "outputs": [],
   "source": [
    "upper_bounds=[(v[0], k[1]) for k,v in d.items()]\n",
    "def get_country(x):\n",
    "    for c,ip in upper_bounds:\n",
    "        if x<=ip: return c  # didn't end up using"
   ]
  },
  {
   "cell_type": "code",
   "execution_count": null,
   "metadata": {},
   "outputs": [],
   "source": []
  },
  {
   "cell_type": "markdown",
   "metadata": {},
   "source": [
    "### Feature Engineering"
   ]
  },
  {
   "cell_type": "markdown",
   "metadata": {},
   "source": [
    "#### Find the countries for all the IP addresses listed"
   ]
  },
  {
   "cell_type": "code",
   "execution_count": 9,
   "metadata": {},
   "outputs": [
    {
     "name": "stderr",
     "output_type": "stream",
     "text": [
      "/anaconda3/lib/python3.6/site-packages/pandas/core/indexing.py:1027: FutureWarning: \n",
      "Passing list-likes to .loc or [] with any missing label will raise\n",
      "KeyError in the future, you can use .reindex() as an alternative.\n",
      "\n",
      "See the documentation here:\n",
      "https://pandas.pydata.org/pandas-docs/stable/indexing.html#deprecate-loc-reindex-listlike\n",
      "  return getattr(section, self.name)[new_key]\n"
     ]
    }
   ],
   "source": [
    "v = ip_df.loc[:, 'lower_bound_ip_address':'upper_bound_ip_address'].apply(tuple, 1).tolist()\n",
    "idx = pd.IntervalIndex.from_tuples(v, closed='both')\n",
    "fraud_df.loc[:, 'country'] = ip_df.loc[idx.get_indexer(fraud_df['ip_address'].values), 'country'].values"
   ]
  },
  {
   "cell_type": "markdown",
   "metadata": {},
   "source": [
    "#### Make dummies for the source and browser"
   ]
  },
  {
   "cell_type": "code",
   "execution_count": 37,
   "metadata": {},
   "outputs": [],
   "source": [
    "fraud_df = fraud_df.merge(pd.get_dummies(fraud_df.source), left_index=True, right_index=True)"
   ]
  },
  {
   "cell_type": "code",
   "execution_count": 38,
   "metadata": {},
   "outputs": [],
   "source": [
    "fraud_df = fraud_df.merge(pd.get_dummies(fraud_df.browser), left_index=True, right_index=True)"
   ]
  },
  {
   "cell_type": "code",
   "execution_count": 39,
   "metadata": {},
   "outputs": [],
   "source": [
    "fraud_df['sex'] = pd.Series(np.where(fraud_df.sex.values == 'F', 1, 0),\n",
    "          fraud_df.index)"
   ]
  },
  {
   "cell_type": "code",
   "execution_count": 40,
   "metadata": {},
   "outputs": [],
   "source": [
    "fraud_df['signup_time'] = pd.to_datetime(fraud_df['signup_time'])"
   ]
  },
  {
   "cell_type": "code",
   "execution_count": 41,
   "metadata": {},
   "outputs": [],
   "source": [
    "fraud_df['purchase_time'] = pd.to_datetime(fraud_df['purchase_time'])"
   ]
  },
  {
   "cell_type": "markdown",
   "metadata": {},
   "source": [
    "#### Find difference in signup time and purchase time"
   ]
  },
  {
   "cell_type": "code",
   "execution_count": 42,
   "metadata": {},
   "outputs": [],
   "source": [
    "fraud_df['time_to_purchase'] = fraud_df['purchase_time'] -fraud_df['signup_time']"
   ]
  },
  {
   "cell_type": "code",
   "execution_count": 43,
   "metadata": {},
   "outputs": [],
   "source": [
    "fraud_df.time_to_purchase = fraud_df.time_to_purchase.apply(lambda x: x / timedelta (days=1))"
   ]
  },
  {
   "cell_type": "markdown",
   "metadata": {},
   "source": [
    "split dataframe and find percent countries in test set above a certain threshold"
   ]
  },
  {
   "cell_type": "code",
   "execution_count": 44,
   "metadata": {},
   "outputs": [],
   "source": [
    "date_to_split = dt.datetime(2015, 7, 31) #split on this date for the train/test split"
   ]
  },
  {
   "cell_type": "code",
   "execution_count": 45,
   "metadata": {},
   "outputs": [],
   "source": [
    "calculate_percent_fraud = fraud_df[fraud_df.signup_time <= date_to_split]"
   ]
  },
  {
   "cell_type": "code",
   "execution_count": null,
   "metadata": {},
   "outputs": [],
   "source": []
  },
  {
   "cell_type": "code",
   "execution_count": 46,
   "metadata": {},
   "outputs": [],
   "source": [
    "percent_fraud_df = pd.DataFrame(calculate_percent_fraud.groupby(['country'])['class'].sum()/fraud_df.groupby(['country'])['class'].count())"
   ]
  },
  {
   "cell_type": "markdown",
   "metadata": {},
   "source": [
    "#### Find countries with fraud percent above 20"
   ]
  },
  {
   "cell_type": "code",
   "execution_count": 47,
   "metadata": {},
   "outputs": [],
   "source": [
    "fraud_countries = list(percent_fraud_df.loc[percent_fraud_df['class'] > 0.2].index)"
   ]
  },
  {
   "cell_type": "code",
   "execution_count": 48,
   "metadata": {},
   "outputs": [],
   "source": [
    "def possible_fraud(country):\n",
    "    if country in fraud_countries:\n",
    "        return 1\n",
    "    else:\n",
    "        return 0"
   ]
  },
  {
   "cell_type": "code",
   "execution_count": 49,
   "metadata": {},
   "outputs": [],
   "source": [
    "fraud_df['possible_fraud'] = fraud_df['country'].apply(lambda x: possible_fraud(x))"
   ]
  },
  {
   "cell_type": "code",
   "execution_count": 50,
   "metadata": {},
   "outputs": [
    {
     "data": {
      "text/plain": [
       "user_id                 0\n",
       "signup_time             0\n",
       "purchase_time           0\n",
       "purchase_value          0\n",
       "device_id               0\n",
       "source                  0\n",
       "browser                 0\n",
       "sex                     0\n",
       "age                     0\n",
       "ip_address              0\n",
       "class                   0\n",
       "country             21966\n",
       "time_to_purchase        0\n",
       "possible_fraud          0\n",
       "Ads                     0\n",
       "Direct                  0\n",
       "SEO                     0\n",
       "Chrome                  0\n",
       "FireFox                 0\n",
       "IE                      0\n",
       "Opera                   0\n",
       "Safari                  0\n",
       "dtype: int64"
      ]
     },
     "execution_count": 50,
     "metadata": {},
     "output_type": "execute_result"
    }
   ],
   "source": [
    "fraud_df.isna().sum()  #see if there are any missing values"
   ]
  },
  {
   "cell_type": "markdown",
   "metadata": {},
   "source": [
    "#### Create X and y matrices for model"
   ]
  },
  {
   "cell_type": "code",
   "execution_count": 51,
   "metadata": {},
   "outputs": [],
   "source": [
    "X = fraud_df.loc[:, ['purchase_value', 'sex', 'age', 'Ads', 'Direct', 'SEO', 'time_to_purchase', 'Chrome',\n",
    "       'FireFox', 'IE', 'Opera', 'Safari', 'possible_fraud']]"
   ]
  },
  {
   "cell_type": "code",
   "execution_count": 52,
   "metadata": {},
   "outputs": [],
   "source": [
    "y = fraud_df.loc[:, ['class']]"
   ]
  },
  {
   "cell_type": "code",
   "execution_count": 31,
   "metadata": {},
   "outputs": [],
   "source": [
    "df_train = fraud_df[fraud_df.signup_time <= date_to_split]"
   ]
  },
  {
   "cell_type": "code",
   "execution_count": 32,
   "metadata": {},
   "outputs": [],
   "source": [
    "df_test = fraud_df[fraud_df.signup_time >= date_to_split]"
   ]
  },
  {
   "cell_type": "code",
   "execution_count": 53,
   "metadata": {},
   "outputs": [],
   "source": [
    "X_train, X_test, y_train, y_test = train_test_split(X, y)"
   ]
  },
  {
   "cell_type": "code",
   "execution_count": 70,
   "metadata": {},
   "outputs": [],
   "source": [
    "X_train2 = X_train.loc[:, ['purchase_value', 'sex', 'age', 'Ads', 'Direct', 'SEO', 'time_to_purchase', 'Chrome',\n",
    "       'FireFox', 'IE', 'Opera', 'Safari']] #dropped potential fraud due to data leakage concerns"
   ]
  },
  {
   "cell_type": "code",
   "execution_count": 71,
   "metadata": {},
   "outputs": [],
   "source": [
    "y_train2 = y_train.loc[:, ['class']]"
   ]
  },
  {
   "cell_type": "code",
   "execution_count": 72,
   "metadata": {},
   "outputs": [],
   "source": [
    "X_test2 = X_test.loc[:, ['purchase_value', 'sex', 'age', 'Ads', 'Direct', 'SEO', 'time_to_purchase', 'Chrome',\n",
    "       'FireFox', 'IE', 'Opera', 'Safari']] #dropped potential fraud due to data leakage concerns"
   ]
  },
  {
   "cell_type": "code",
   "execution_count": 73,
   "metadata": {},
   "outputs": [],
   "source": [
    "y_test2 = y_test.loc[:, ['class']]"
   ]
  },
  {
   "cell_type": "code",
   "execution_count": 54,
   "metadata": {},
   "outputs": [],
   "source": [
    "rf_classifier = RandomForestClassifier(max_depth=10, n_estimators=1000)"
   ]
  },
  {
   "cell_type": "code",
   "execution_count": 57,
   "metadata": {},
   "outputs": [
    {
     "data": {
      "text/html": [
       "<div>\n",
       "<style scoped>\n",
       "    .dataframe tbody tr th:only-of-type {\n",
       "        vertical-align: middle;\n",
       "    }\n",
       "\n",
       "    .dataframe tbody tr th {\n",
       "        vertical-align: top;\n",
       "    }\n",
       "\n",
       "    .dataframe thead th {\n",
       "        text-align: right;\n",
       "    }\n",
       "</style>\n",
       "<table border=\"1\" class=\"dataframe\">\n",
       "  <thead>\n",
       "    <tr style=\"text-align: right;\">\n",
       "      <th></th>\n",
       "      <th>purchase_value</th>\n",
       "      <th>sex</th>\n",
       "      <th>age</th>\n",
       "      <th>Ads</th>\n",
       "      <th>Direct</th>\n",
       "      <th>SEO</th>\n",
       "      <th>time_to_purchase</th>\n",
       "      <th>Chrome</th>\n",
       "      <th>FireFox</th>\n",
       "      <th>IE</th>\n",
       "      <th>Opera</th>\n",
       "      <th>Safari</th>\n",
       "      <th>possible_fraud</th>\n",
       "    </tr>\n",
       "  </thead>\n",
       "  <tbody>\n",
       "    <tr>\n",
       "      <th>74068</th>\n",
       "      <td>26</td>\n",
       "      <td>0</td>\n",
       "      <td>41</td>\n",
       "      <td>1</td>\n",
       "      <td>0</td>\n",
       "      <td>0</td>\n",
       "      <td>0.000012</td>\n",
       "      <td>1</td>\n",
       "      <td>0</td>\n",
       "      <td>0</td>\n",
       "      <td>0</td>\n",
       "      <td>0</td>\n",
       "      <td>0</td>\n",
       "    </tr>\n",
       "    <tr>\n",
       "      <th>129509</th>\n",
       "      <td>19</td>\n",
       "      <td>1</td>\n",
       "      <td>34</td>\n",
       "      <td>0</td>\n",
       "      <td>0</td>\n",
       "      <td>1</td>\n",
       "      <td>103.275370</td>\n",
       "      <td>1</td>\n",
       "      <td>0</td>\n",
       "      <td>0</td>\n",
       "      <td>0</td>\n",
       "      <td>0</td>\n",
       "      <td>0</td>\n",
       "    </tr>\n",
       "    <tr>\n",
       "      <th>95250</th>\n",
       "      <td>12</td>\n",
       "      <td>0</td>\n",
       "      <td>40</td>\n",
       "      <td>1</td>\n",
       "      <td>0</td>\n",
       "      <td>0</td>\n",
       "      <td>11.437755</td>\n",
       "      <td>0</td>\n",
       "      <td>0</td>\n",
       "      <td>1</td>\n",
       "      <td>0</td>\n",
       "      <td>0</td>\n",
       "      <td>0</td>\n",
       "    </tr>\n",
       "    <tr>\n",
       "      <th>138881</th>\n",
       "      <td>16</td>\n",
       "      <td>1</td>\n",
       "      <td>34</td>\n",
       "      <td>0</td>\n",
       "      <td>0</td>\n",
       "      <td>1</td>\n",
       "      <td>60.341470</td>\n",
       "      <td>0</td>\n",
       "      <td>0</td>\n",
       "      <td>0</td>\n",
       "      <td>0</td>\n",
       "      <td>1</td>\n",
       "      <td>0</td>\n",
       "    </tr>\n",
       "    <tr>\n",
       "      <th>43829</th>\n",
       "      <td>42</td>\n",
       "      <td>1</td>\n",
       "      <td>22</td>\n",
       "      <td>0</td>\n",
       "      <td>0</td>\n",
       "      <td>1</td>\n",
       "      <td>94.494167</td>\n",
       "      <td>1</td>\n",
       "      <td>0</td>\n",
       "      <td>0</td>\n",
       "      <td>0</td>\n",
       "      <td>0</td>\n",
       "      <td>0</td>\n",
       "    </tr>\n",
       "  </tbody>\n",
       "</table>\n",
       "</div>"
      ],
      "text/plain": [
       "        purchase_value  sex  age  Ads  Direct  SEO  time_to_purchase  Chrome  \\\n",
       "74068               26    0   41    1       0    0          0.000012       1   \n",
       "129509              19    1   34    0       0    1        103.275370       1   \n",
       "95250               12    0   40    1       0    0         11.437755       0   \n",
       "138881              16    1   34    0       0    1         60.341470       0   \n",
       "43829               42    1   22    0       0    1         94.494167       1   \n",
       "\n",
       "        FireFox  IE  Opera  Safari  possible_fraud  \n",
       "74068         0   0      0       0               0  \n",
       "129509        0   0      0       0               0  \n",
       "95250         0   1      0       0               0  \n",
       "138881        0   0      0       1               0  \n",
       "43829         0   0      0       0               0  "
      ]
     },
     "execution_count": 57,
     "metadata": {},
     "output_type": "execute_result"
    }
   ],
   "source": [
    "X_train.head()"
   ]
  },
  {
   "cell_type": "code",
   "execution_count": 56,
   "metadata": {},
   "outputs": [
    {
     "name": "stderr",
     "output_type": "stream",
     "text": [
      "/anaconda3/lib/python3.6/site-packages/ipykernel_launcher.py:1: DataConversionWarning: A column-vector y was passed when a 1d array was expected. Please change the shape of y to (n_samples,), for example using ravel().\n",
      "  \"\"\"Entry point for launching an IPython kernel.\n"
     ]
    },
    {
     "data": {
      "text/plain": [
       "RandomForestClassifier(bootstrap=True, class_weight=None, criterion='gini',\n",
       "            max_depth=10, max_features='auto', max_leaf_nodes=None,\n",
       "            min_impurity_decrease=0.0, min_impurity_split=None,\n",
       "            min_samples_leaf=1, min_samples_split=2,\n",
       "            min_weight_fraction_leaf=0.0, n_estimators=1000, n_jobs=1,\n",
       "            oob_score=False, random_state=None, verbose=0,\n",
       "            warm_start=False)"
      ]
     },
     "execution_count": 56,
     "metadata": {},
     "output_type": "execute_result"
    }
   ],
   "source": [
    "rf_classifier.fit(X_train, y_train)"
   ]
  },
  {
   "cell_type": "code",
   "execution_count": 58,
   "metadata": {},
   "outputs": [],
   "source": [
    "preds = rf_classifier.predict_proba(X_test)"
   ]
  },
  {
   "cell_type": "code",
   "execution_count": 59,
   "metadata": {},
   "outputs": [],
   "source": [
    "pos_preds = preds[:,1]"
   ]
  },
  {
   "cell_type": "code",
   "execution_count": 60,
   "metadata": {},
   "outputs": [
    {
     "data": {
      "text/plain": [
       "class    3544\n",
       "dtype: int64"
      ]
     },
     "execution_count": 60,
     "metadata": {},
     "output_type": "execute_result"
    }
   ],
   "source": [
    "y_test.sum()"
   ]
  },
  {
   "cell_type": "code",
   "execution_count": 61,
   "metadata": {},
   "outputs": [
    {
     "data": {
      "text/plain": [
       "class    0.093811\n",
       "dtype: float64"
      ]
     },
     "execution_count": 61,
     "metadata": {},
     "output_type": "execute_result"
    }
   ],
   "source": [
    "y_test.sum()/len(y_test)"
   ]
  },
  {
   "cell_type": "code",
   "execution_count": 62,
   "metadata": {},
   "outputs": [
    {
     "data": {
      "text/plain": [
       "0.9571178993064746"
      ]
     },
     "execution_count": 62,
     "metadata": {},
     "output_type": "execute_result"
    }
   ],
   "source": [
    "rf_classifier.score(X_test, y_test)  #accuracy"
   ]
  },
  {
   "cell_type": "code",
   "execution_count": 63,
   "metadata": {},
   "outputs": [
    {
     "data": {
      "text/plain": [
       "0.1771880982224652"
      ]
     },
     "execution_count": 63,
     "metadata": {},
     "output_type": "execute_result"
    }
   ],
   "source": [
    "log_loss(y_test, pos_preds)"
   ]
  },
  {
   "cell_type": "code",
   "execution_count": 74,
   "metadata": {},
   "outputs": [
    {
     "name": "stderr",
     "output_type": "stream",
     "text": [
      "/anaconda3/lib/python3.6/site-packages/ipykernel_launcher.py:1: DataConversionWarning: A column-vector y was passed when a 1d array was expected. Please change the shape of y to (n_samples,), for example using ravel().\n",
      "  \"\"\"Entry point for launching an IPython kernel.\n"
     ]
    },
    {
     "data": {
      "text/plain": [
       "RandomForestClassifier(bootstrap=True, class_weight=None, criterion='gini',\n",
       "            max_depth=10, max_features='auto', max_leaf_nodes=None,\n",
       "            min_impurity_decrease=0.0, min_impurity_split=None,\n",
       "            min_samples_leaf=1, min_samples_split=2,\n",
       "            min_weight_fraction_leaf=0.0, n_estimators=1000, n_jobs=1,\n",
       "            oob_score=False, random_state=None, verbose=0,\n",
       "            warm_start=False)"
      ]
     },
     "execution_count": 74,
     "metadata": {},
     "output_type": "execute_result"
    }
   ],
   "source": [
    "rf_classifier.fit(X_train2, y_train2)"
   ]
  },
  {
   "cell_type": "code",
   "execution_count": 75,
   "metadata": {},
   "outputs": [],
   "source": [
    "preds2 = rf_classifier.predict_proba(X_test2)"
   ]
  },
  {
   "cell_type": "code",
   "execution_count": 76,
   "metadata": {},
   "outputs": [
    {
     "data": {
      "text/plain": [
       "0.9571178993064746"
      ]
     },
     "execution_count": 76,
     "metadata": {},
     "output_type": "execute_result"
    }
   ],
   "source": [
    "rf_classifier.score(X_test2, y_test2)"
   ]
  },
  {
   "cell_type": "code",
   "execution_count": 78,
   "metadata": {},
   "outputs": [
    {
     "data": {
      "text/plain": [
       "0.1763394980657516"
      ]
     },
     "execution_count": 78,
     "metadata": {},
     "output_type": "execute_result"
    }
   ],
   "source": [
    "log_loss(y_test2, preds2)"
   ]
  },
  {
   "cell_type": "code",
   "execution_count": 92,
   "metadata": {},
   "outputs": [
    {
     "data": {
      "text/plain": [
       "['purchase_value',\n",
       " 'sex',\n",
       " 'age',\n",
       " 'Ads',\n",
       " 'Direct',\n",
       " 'SEO',\n",
       " 'time_to_purchase',\n",
       " 'Chrome',\n",
       " 'FireFox',\n",
       " 'IE',\n",
       " 'Opera',\n",
       " 'Safari',\n",
       " 'possible_fraud']"
      ]
     },
     "execution_count": 92,
     "metadata": {},
     "output_type": "execute_result"
    }
   ],
   "source": [
    "(list(X.columns))"
   ]
  },
  {
   "cell_type": "code",
   "execution_count": 146,
   "metadata": {},
   "outputs": [
    {
     "data": {
      "text/plain": [
       "<matplotlib.collections.PathCollection at 0x1a41095be0>"
      ]
     },
     "execution_count": 146,
     "metadata": {},
     "output_type": "execute_result"
    },
    {
     "data": {
      "image/png": "[encoded data removed]",
      "text/plain": [
       "<Figure size 864x720 with 1 Axes>"
      ]
     },
     "metadata": {},
     "output_type": "display_data"
    }
   ],
   "source": [
    "fig, axs = plt.subplots(1, figsize = (12,10))\n",
    "samples = list(np.arange(0, 0.1, 0.01))\n",
    "chrome = [x + random.sample(samples, 1)[0] for x in X.Chrome.values]\n",
    "ys = [label + random.sample(samples, 1)[0] for label in y.values]\n",
    "axs.scatter(chrome, ys)"
   ]
  },
  {
   "cell_type": "code",
   "execution_count": 141,
   "metadata": {},
   "outputs": [
    {
     "data": {
      "text/plain": [
       "<matplotlib.collections.PathCollection at 0x1a3ccf5f98>"
      ]
     },
     "execution_count": 141,
     "metadata": {},
     "output_type": "execute_result"
    },
    {
     "data": {
      "image/png": "[encoded data removed]",
      "text/plain": [
       "<Figure size 432x288 with 1 Axes>"
      ]
     },
     "metadata": {},
     "output_type": "display_data"
    }
   ],
   "source": [
    "plt.scatter(chrome, y.values)"
   ]
  },
  {
   "cell_type": "code",
   "execution_count": 135,
   "metadata": {},
   "outputs": [],
   "source": [
    "chrome = [x + random.sample(samples, 1)[0] for x in X.Chrome.values]"
   ]
  },
  {
   "cell_type": "code",
   "execution_count": 136,
   "metadata": {},
   "outputs": [
    {
     "data": {
      "text/plain": [
       "[1.8,\n",
       " 1.26,\n",
       " 0.8200000000000001,\n",
       " 0.9400000000000001,\n",
       " 0.29,\n",
       " 1.0,\n",
       " 1.5,\n",
       " 0.26,\n",
       " 0.39,\n",
       " 0.0,\n",
       " 0.84,\n",
       " 1.83,\n",
       " 0.64,\n",
       " 0.2,\n",
       " 0.97,\n",
       " 0.48,\n",
       " 0.79,\n",
       " 0.98,\n",
       " 0.52,\n",
       " 0.43,\n",
       " 0.03,\n",
       " 1.81,\n",
       " 1.38,\n",
       " 0.41000000000000003,\n",
       " 0.73,\n",
       " 0.93,\n",
       " 0.46,\n",
       " 1.73,\n",
       " 0.22,\n",
       " 1.24,\n",
       " 0.39,\n",
       " 0.86,\n",
       " 1.21,\n",
       " 0.53,\n",
       " 0.08,\n",
       " 0.45,\n",
       " 0.04,\n",
       " 0.51,\n",
       " 1.57,\n",
       " 0.99,\n",
       " 1.6400000000000001,\n",
       " 1.05,\n",
       " 0.33,\n",
       " 0.02,\n",
       " 0.45,\n",
       " 0.16,\n",
       " 0.44,\n",
       " 1.07,\n",
       " 0.35000000000000003,\n",
       " 1.48,\n",
       " 0.08,\n",
       " 0.02,\n",
       " 0.0,\n",
       " 0.85,\n",
       " 0.8200000000000001,\n",
       " 1.76,\n",
       " 0.65,\n",
       " 1.9500000000000002,\n",
       " 1.97,\n",
       " 0.9,\n",
       " 0.51,\n",
       " 1.42,\n",
       " 0.53,\n",
       " 0.2,\n",
       " 0.04,\n",
       " 0.56,\n",
       " 0.24,\n",
       " 0.1,\n",
       " 1.54,\n",
       " 0.92,\n",
       " 0.27,\n",
       " 1.96,\n",
       " 0.36,\n",
       " 0.92,\n",
       " 0.81,\n",
       " 1.38,\n",
       " 0.08,\n",
       " 0.3,\n",
       " 0.5700000000000001,\n",
       " 1.11,\n",
       " 1.77,\n",
       " 0.93,\n",
       " 1.31,\n",
       " 0.9,\n",
       " 0.12,\n",
       " 1.8,\n",
       " 0.08,\n",
       " 0.45,\n",
       " 1.96,\n",
       " 0.47000000000000003,\n",
       " 0.11,\n",
       " 0.28,\n",
       " 1.7000000000000002,\n",
       " 1.99,\n",
       " 0.42,\n",
       " 1.62,\n",
       " 0.48,\n",
       " 1.44,\n",
       " 1.58,\n",
       " 0.72,\n",
       " 0.55,\n",
       " 0.85,\n",
       " 1.28,\n",
       " 0.46,\n",
       " 0.9,\n",
       " 0.24,\n",
       " 1.4100000000000001,\n",
       " 0.92,\n",
       " 0.74,\n",
       " 0.34,\n",
       " 0.11,\n",
       " 0.98,\n",
       " 1.54,\n",
       " 0.32,\n",
       " 0.41000000000000003,\n",
       " 0.18,\n",
       " 1.37,\n",
       " 0.33,\n",
       " 0.96,\n",
       " 0.76,\n",
       " 0.62,\n",
       " 1.35,\n",
       " 0.92,\n",
       " 1.47,\n",
       " 0.26,\n",
       " 0.03,\n",
       " 1.67,\n",
       " 0.42,\n",
       " 1.05,\n",
       " 1.06,\n",
       " 0.32,\n",
       " 1.87,\n",
       " 1.07,\n",
       " 1.44,\n",
       " 0.66,\n",
       " 0.16,\n",
       " 1.35,\n",
       " 0.55,\n",
       " 1.18,\n",
       " 1.13,\n",
       " 1.1,\n",
       " 0.13,\n",
       " 1.28,\n",
       " 0.52,\n",
       " 1.99,\n",
       " 0.73,\n",
       " 1.49,\n",
       " 0.06,\n",
       " 1.83,\n",
       " 0.23,\n",
       " 0.66,\n",
       " 1.74,\n",
       " 0.61,\n",
       " 0.49,\n",
       " 1.51,\n",
       " 1.81,\n",
       " 0.64,\n",
       " 1.83,\n",
       " 0.73,\n",
       " 0.08,\n",
       " 0.77,\n",
       " 0.56,\n",
       " 0.52,\n",
       " 1.32,\n",
       " 1.8900000000000001,\n",
       " 1.34,\n",
       " 1.73,\n",
       " 0.61,\n",
       " 0.9400000000000001,\n",
       " 1.4,\n",
       " 0.03,\n",
       " 0.33,\n",
       " 1.06,\n",
       " 0.85,\n",
       " 1.63,\n",
       " 0.78,\n",
       " 0.43,\n",
       " 0.59,\n",
       " 1.47,\n",
       " 0.87,\n",
       " 0.96,\n",
       " 0.5700000000000001,\n",
       " 0.0,\n",
       " 0.32,\n",
       " 0.21,\n",
       " 0.43,\n",
       " 1.8900000000000001,\n",
       " 1.03,\n",
       " 1.09,\n",
       " 0.09,\n",
       " 0.52,\n",
       " 1.1400000000000001,\n",
       " 0.89,\n",
       " 1.45,\n",
       " 0.39,\n",
       " 1.28,\n",
       " 1.19,\n",
       " 0.74,\n",
       " 0.79,\n",
       " 0.23,\n",
       " 0.88,\n",
       " 0.27,\n",
       " 1.99,\n",
       " 0.6900000000000001,\n",
       " 1.8900000000000001,\n",
       " 0.8200000000000001,\n",
       " 0.04,\n",
       " 1.06,\n",
       " 1.05,\n",
       " 0.8200000000000001,\n",
       " 0.52,\n",
       " 0.3,\n",
       " 1.42,\n",
       " 1.37,\n",
       " 0.91,\n",
       " 0.25,\n",
       " 0.03,\n",
       " 0.45,\n",
       " 0.74,\n",
       " 0.76,\n",
       " 0.1,\n",
       " 0.85,\n",
       " 1.9100000000000001,\n",
       " 1.3,\n",
       " 0.33,\n",
       " 1.4,\n",
       " 0.39,\n",
       " 0.77,\n",
       " 0.03,\n",
       " 0.44,\n",
       " 0.55,\n",
       " 0.8200000000000001,\n",
       " 1.9,\n",
       " 0.49,\n",
       " 1.12,\n",
       " 1.6800000000000002,\n",
       " 1.57,\n",
       " 1.83,\n",
       " 0.27,\n",
       " 0.27,\n",
       " 0.35000000000000003,\n",
       " 1.13,\n",
       " 0.33,\n",
       " 1.67,\n",
       " 1.55,\n",
       " 0.96,\n",
       " 0.21,\n",
       " 1.32,\n",
       " 1.79,\n",
       " 0.61,\n",
       " 1.71,\n",
       " 1.51,\n",
       " 1.69,\n",
       " 1.22,\n",
       " 1.37,\n",
       " 1.9500000000000002,\n",
       " 0.78,\n",
       " 0.23,\n",
       " 0.61,\n",
       " 0.39,\n",
       " 0.66,\n",
       " 0.8,\n",
       " 0.68,\n",
       " 0.52,\n",
       " 0.43,\n",
       " 0.74,\n",
       " 0.59,\n",
       " 1.25,\n",
       " 0.16,\n",
       " 0.6,\n",
       " 0.66,\n",
       " 1.56,\n",
       " 1.97,\n",
       " 0.91,\n",
       " 1.8599999999999999,\n",
       " 1.9,\n",
       " 1.53,\n",
       " 0.01,\n",
       " 0.8200000000000001,\n",
       " 1.6,\n",
       " 1.02,\n",
       " 0.5700000000000001,\n",
       " 1.07,\n",
       " 0.1,\n",
       " 0.62,\n",
       " 1.52,\n",
       " 0.81,\n",
       " 0.99,\n",
       " 0.27,\n",
       " 1.71,\n",
       " 0.2,\n",
       " 0.5700000000000001,\n",
       " 1.7000000000000002,\n",
       " 1.23,\n",
       " 0.85,\n",
       " 0.87,\n",
       " 1.67,\n",
       " 0.65,\n",
       " 1.79,\n",
       " 0.85,\n",
       " 0.75,\n",
       " 0.4,\n",
       " 0.41000000000000003,\n",
       " 1.0,\n",
       " 1.74,\n",
       " 1.0,\n",
       " 0.51,\n",
       " 1.99,\n",
       " 0.04,\n",
       " 1.94,\n",
       " 0.8,\n",
       " 0.27,\n",
       " 0.68,\n",
       " 0.1,\n",
       " 1.97,\n",
       " 0.53,\n",
       " 0.2,\n",
       " 0.68,\n",
       " 0.64,\n",
       " 1.87,\n",
       " 1.26,\n",
       " 1.3599999999999999,\n",
       " 1.29,\n",
       " 0.25,\n",
       " 1.71,\n",
       " 0.43,\n",
       " 0.61,\n",
       " 1.72,\n",
       " 0.65,\n",
       " 0.25,\n",
       " 1.3599999999999999,\n",
       " 0.25,\n",
       " 1.45,\n",
       " 1.27,\n",
       " 0.86,\n",
       " 0.62,\n",
       " 1.9500000000000002,\n",
       " 0.47000000000000003,\n",
       " 0.53,\n",
       " 1.85,\n",
       " 1.4,\n",
       " 0.78,\n",
       " 1.92,\n",
       " 0.8,\n",
       " 0.9,\n",
       " 1.83,\n",
       " 0.3,\n",
       " 1.71,\n",
       " 0.8300000000000001,\n",
       " 0.37,\n",
       " 0.16,\n",
       " 1.3,\n",
       " 0.63,\n",
       " 1.53,\n",
       " 0.58,\n",
       " 0.13,\n",
       " 0.14,\n",
       " 0.15,\n",
       " 1.1400000000000001,\n",
       " 1.85,\n",
       " 0.88,\n",
       " 1.32,\n",
       " 1.07,\n",
       " 1.16,\n",
       " 0.35000000000000003,\n",
       " 0.74,\n",
       " 1.3599999999999999,\n",
       " 0.35000000000000003,\n",
       " 1.9100000000000001,\n",
       " 0.18,\n",
       " 0.8,\n",
       " 1.55,\n",
       " 1.29,\n",
       " 1.0,\n",
       " 1.33,\n",
       " 0.46,\n",
       " 0.71,\n",
       " 0.32,\n",
       " 1.06,\n",
       " 1.74,\n",
       " 0.96,\n",
       " 1.96,\n",
       " 0.97,\n",
       " 1.02,\n",
       " 1.37,\n",
       " 0.63,\n",
       " 1.19,\n",
       " 1.72,\n",
       " 1.75,\n",
       " 1.2,\n",
       " 1.35,\n",
       " 0.99,\n",
       " 1.69,\n",
       " 1.99,\n",
       " 0.1,\n",
       " 1.8900000000000001,\n",
       " 0.41000000000000003,\n",
       " 1.9100000000000001,\n",
       " 0.68,\n",
       " 0.43,\n",
       " 1.88,\n",
       " 0.2,\n",
       " 1.27,\n",
       " 0.47000000000000003,\n",
       " 1.1400000000000001,\n",
       " 0.9,\n",
       " 1.0,\n",
       " 1.08,\n",
       " 0.17,\n",
       " 0.16,\n",
       " 1.87,\n",
       " 0.8300000000000001,\n",
       " 1.32,\n",
       " 1.06,\n",
       " 1.83,\n",
       " 0.85,\n",
       " 0.78,\n",
       " 0.45,\n",
       " 0.4,\n",
       " 1.09,\n",
       " 1.92,\n",
       " 0.64,\n",
       " 1.02,\n",
       " 0.47000000000000003,\n",
       " 0.46,\n",
       " 1.75,\n",
       " 0.07,\n",
       " 0.13,\n",
       " 0.8200000000000001,\n",
       " 0.06,\n",
       " 0.56,\n",
       " 0.77,\n",
       " 1.23,\n",
       " 0.0,\n",
       " 1.19,\n",
       " 0.84,\n",
       " 1.72,\n",
       " 1.8399999999999999,\n",
       " 1.24,\n",
       " 0.35000000000000003,\n",
       " 0.93,\n",
       " 0.49,\n",
       " 1.98,\n",
       " 0.14,\n",
       " 0.66,\n",
       " 1.0,\n",
       " 0.64,\n",
       " 1.45,\n",
       " 0.37,\n",
       " 0.15,\n",
       " 1.08,\n",
       " 1.42,\n",
       " 0.93,\n",
       " 0.27,\n",
       " 0.32,\n",
       " 0.27,\n",
       " 0.7000000000000001,\n",
       " 0.23,\n",
       " 1.72,\n",
       " 0.3,\n",
       " 0.53,\n",
       " 0.37,\n",
       " 0.53,\n",
       " 0.29,\n",
       " 0.32,\n",
       " 1.23,\n",
       " 0.97,\n",
       " 0.35000000000000003,\n",
       " 0.68,\n",
       " 1.5,\n",
       " 0.73,\n",
       " 1.13,\n",
       " 1.1,\n",
       " 0.81,\n",
       " 0.47000000000000003,\n",
       " 0.45,\n",
       " 1.19,\n",
       " 0.23,\n",
       " 0.26,\n",
       " 0.05,\n",
       " 0.71,\n",
       " 1.9100000000000001,\n",
       " 0.64,\n",
       " 0.92,\n",
       " 1.96,\n",
       " 1.11,\n",
       " 1.7000000000000002,\n",
       " 1.7000000000000002,\n",
       " 0.24,\n",
       " 0.02,\n",
       " 0.61,\n",
       " 0.56,\n",
       " 0.99,\n",
       " 1.6800000000000002,\n",
       " 1.07,\n",
       " 1.15,\n",
       " 0.37,\n",
       " 1.15,\n",
       " 0.84,\n",
       " 0.31,\n",
       " 0.04,\n",
       " 0.92,\n",
       " 0.72,\n",
       " 0.05,\n",
       " 0.49,\n",
       " 1.47,\n",
       " 0.44,\n",
       " 1.63,\n",
       " 0.9400000000000001,\n",
       " 1.63,\n",
       " 1.0,\n",
       " 0.99,\n",
       " 0.32,\n",
       " 1.44,\n",
       " 0.29,\n",
       " 1.77,\n",
       " 1.28,\n",
       " 1.55,\n",
       " 0.9400000000000001,\n",
       " 0.09,\n",
       " 1.16,\n",
       " 0.66,\n",
       " 0.54,\n",
       " 1.45,\n",
       " 0.8200000000000001,\n",
       " 0.5700000000000001,\n",
       " 0.01,\n",
       " 1.78,\n",
       " 0.7000000000000001,\n",
       " 0.89,\n",
       " 1.81,\n",
       " 1.46,\n",
       " 1.4,\n",
       " 1.03,\n",
       " 1.4,\n",
       " 0.8200000000000001,\n",
       " 1.77,\n",
       " 0.25,\n",
       " 1.3900000000000001,\n",
       " 1.6600000000000001,\n",
       " 1.2,\n",
       " 0.08,\n",
       " 0.5,\n",
       " 1.13,\n",
       " 1.75,\n",
       " 1.54,\n",
       " 0.9400000000000001,\n",
       " 0.79,\n",
       " 1.88,\n",
       " 0.85,\n",
       " 1.62,\n",
       " 0.9,\n",
       " 0.56,\n",
       " 0.49,\n",
       " 0.32,\n",
       " 1.57,\n",
       " 0.49,\n",
       " 0.36,\n",
       " 0.41000000000000003,\n",
       " 0.98,\n",
       " 0.32,\n",
       " 0.62,\n",
       " 1.02,\n",
       " 1.8599999999999999,\n",
       " 0.24,\n",
       " 1.04,\n",
       " 0.34,\n",
       " 0.13,\n",
       " 0.5,\n",
       " 0.14,\n",
       " 0.8200000000000001,\n",
       " 0.24,\n",
       " 1.4,\n",
       " 0.84,\n",
       " 0.07,\n",
       " 0.64,\n",
       " 0.21,\n",
       " 0.67,\n",
       " 1.99,\n",
       " 1.1,\n",
       " 0.56,\n",
       " 0.9,\n",
       " 1.98,\n",
       " 1.07,\n",
       " 0.9400000000000001,\n",
       " 0.8300000000000001,\n",
       " 1.8,\n",
       " 1.3,\n",
       " 1.99,\n",
       " 0.05,\n",
       " 0.61,\n",
       " 0.05,\n",
       " 1.4100000000000001,\n",
       " 1.63,\n",
       " 1.3900000000000001,\n",
       " 1.6,\n",
       " 0.36,\n",
       " 1.72,\n",
       " 0.72,\n",
       " 1.57,\n",
       " 1.9100000000000001,\n",
       " 1.24,\n",
       " 0.98,\n",
       " 0.07,\n",
       " 0.5,\n",
       " 0.18,\n",
       " 0.99,\n",
       " 0.8,\n",
       " 0.78,\n",
       " 0.88,\n",
       " 0.52,\n",
       " 1.56,\n",
       " 0.54,\n",
       " 1.45,\n",
       " 0.91,\n",
       " 1.87,\n",
       " 0.96,\n",
       " 0.9500000000000001,\n",
       " 0.15,\n",
       " 0.64,\n",
       " 0.55,\n",
       " 1.27,\n",
       " 1.58,\n",
       " 0.5700000000000001,\n",
       " 0.68,\n",
       " 0.37,\n",
       " 1.34,\n",
       " 0.09,\n",
       " 1.54,\n",
       " 1.85,\n",
       " 0.07,\n",
       " 0.5,\n",
       " 0.66,\n",
       " 1.31,\n",
       " 1.02,\n",
       " 0.63,\n",
       " 0.1,\n",
       " 1.72,\n",
       " 1.32,\n",
       " 0.45,\n",
       " 1.87,\n",
       " 1.4100000000000001,\n",
       " 0.37,\n",
       " 1.21,\n",
       " 0.33,\n",
       " 0.08,\n",
       " 1.72,\n",
       " 0.13,\n",
       " 0.81,\n",
       " 1.92,\n",
       " 1.7000000000000002,\n",
       " 0.09,\n",
       " 0.65,\n",
       " 0.16,\n",
       " 0.81,\n",
       " 0.74,\n",
       " 0.42,\n",
       " 0.02,\n",
       " 1.3599999999999999,\n",
       " 0.8,\n",
       " 0.64,\n",
       " 0.51,\n",
       " 0.51,\n",
       " 1.37,\n",
       " 0.91,\n",
       " 1.97,\n",
       " 0.62,\n",
       " 1.3,\n",
       " 0.98,\n",
       " 1.77,\n",
       " 0.28,\n",
       " 0.73,\n",
       " 0.53,\n",
       " 0.64,\n",
       " 0.01,\n",
       " 0.29,\n",
       " 0.33,\n",
       " 0.9400000000000001,\n",
       " 1.87,\n",
       " 1.27,\n",
       " 0.72,\n",
       " 1.73,\n",
       " 1.73,\n",
       " 0.08,\n",
       " 0.35000000000000003,\n",
       " 1.42,\n",
       " 0.77,\n",
       " 0.62,\n",
       " 0.67,\n",
       " 0.91,\n",
       " 0.77,\n",
       " 1.1,\n",
       " 1.7000000000000002,\n",
       " 0.47000000000000003,\n",
       " 0.86,\n",
       " 0.5,\n",
       " 0.26,\n",
       " 0.85,\n",
       " 0.19,\n",
       " 0.97,\n",
       " 0.64,\n",
       " 0.53,\n",
       " 0.06,\n",
       " 1.34,\n",
       " 1.79,\n",
       " 0.88,\n",
       " 0.66,\n",
       " 0.59,\n",
       " 0.67,\n",
       " 1.5899999999999999,\n",
       " 0.05,\n",
       " 0.14,\n",
       " 0.27,\n",
       " 0.39,\n",
       " 0.0,\n",
       " 0.05,\n",
       " 1.16,\n",
       " 0.02,\n",
       " 1.5899999999999999,\n",
       " 1.0,\n",
       " 1.94,\n",
       " 1.72,\n",
       " 1.16,\n",
       " 0.73,\n",
       " 1.47,\n",
       " 1.2,\n",
       " 0.51,\n",
       " 1.63,\n",
       " 0.5700000000000001,\n",
       " 0.08,\n",
       " 1.43,\n",
       " 1.8599999999999999,\n",
       " 0.7000000000000001,\n",
       " 0.4,\n",
       " 1.9500000000000002,\n",
       " 0.47000000000000003,\n",
       " 1.6099999999999999,\n",
       " 1.9300000000000002,\n",
       " 1.21,\n",
       " 1.38,\n",
       " 0.92,\n",
       " 0.02,\n",
       " 1.17,\n",
       " 1.46,\n",
       " 1.34,\n",
       " 1.18,\n",
       " 0.9,\n",
       " 1.71,\n",
       " 1.16,\n",
       " 1.81,\n",
       " 1.7000000000000002,\n",
       " 1.8599999999999999,\n",
       " 1.56,\n",
       " 1.6400000000000001,\n",
       " 0.6,\n",
       " 1.92,\n",
       " 0.9,\n",
       " 0.91,\n",
       " 1.1,\n",
       " 0.74,\n",
       " 0.0,\n",
       " 1.33,\n",
       " 0.32,\n",
       " 0.07,\n",
       " 0.64,\n",
       " 1.69,\n",
       " 1.26,\n",
       " 0.08,\n",
       " 0.2,\n",
       " 0.42,\n",
       " 0.79,\n",
       " 0.5,\n",
       " 0.58,\n",
       " 1.72,\n",
       " 0.52,\n",
       " 1.46,\n",
       " 1.47,\n",
       " 1.1400000000000001,\n",
       " 0.36,\n",
       " 0.13,\n",
       " 1.69,\n",
       " 1.78,\n",
       " 0.8300000000000001,\n",
       " 0.98,\n",
       " 0.47000000000000003,\n",
       " 1.09,\n",
       " 0.66,\n",
       " 0.91,\n",
       " 0.91,\n",
       " 1.83,\n",
       " 1.87,\n",
       " 0.03,\n",
       " 0.68,\n",
       " 1.67,\n",
       " 0.58,\n",
       " 0.32,\n",
       " 0.86,\n",
       " 1.22,\n",
       " 0.97,\n",
       " 0.65,\n",
       " 1.63,\n",
       " 0.54,\n",
       " 1.24,\n",
       " 1.1,\n",
       " 0.8300000000000001,\n",
       " 1.72,\n",
       " 1.76,\n",
       " 0.8300000000000001,\n",
       " 1.27,\n",
       " 0.06,\n",
       " 1.37,\n",
       " 0.39,\n",
       " 0.08,\n",
       " 0.13,\n",
       " 1.01,\n",
       " 1.43,\n",
       " 0.16,\n",
       " 0.39,\n",
       " 0.77,\n",
       " 1.87,\n",
       " 1.73,\n",
       " 0.72,\n",
       " 1.94,\n",
       " 0.05,\n",
       " 0.88,\n",
       " 0.47000000000000003,\n",
       " 0.38,\n",
       " 0.61,\n",
       " 0.15,\n",
       " 1.82,\n",
       " 1.76,\n",
       " 0.56,\n",
       " 0.02,\n",
       " 1.2,\n",
       " 0.31,\n",
       " 0.44,\n",
       " 1.6600000000000001,\n",
       " 1.7000000000000002,\n",
       " 1.6400000000000001,\n",
       " 1.06,\n",
       " 0.1,\n",
       " 1.46,\n",
       " 0.21,\n",
       " 1.1,\n",
       " 0.92,\n",
       " 1.98,\n",
       " 0.55,\n",
       " 0.93,\n",
       " 1.88,\n",
       " 0.24,\n",
       " 0.78,\n",
       " 0.89,\n",
       " 1.47,\n",
       " 0.53,\n",
       " 0.63,\n",
       " 1.73,\n",
       " 0.19,\n",
       " 0.23,\n",
       " 0.9400000000000001,\n",
       " 1.2,\n",
       " 0.39,\n",
       " 0.27,\n",
       " 0.58,\n",
       " 0.65,\n",
       " 0.04,\n",
       " 0.5700000000000001,\n",
       " 1.26,\n",
       " 0.86,\n",
       " 1.23,\n",
       " 1.8399999999999999,\n",
       " 1.8599999999999999,\n",
       " 0.7000000000000001,\n",
       " 1.35,\n",
       " 0.47000000000000003,\n",
       " 1.4100000000000001,\n",
       " 0.86,\n",
       " 0.78,\n",
       " 0.55,\n",
       " 0.68,\n",
       " 0.61,\n",
       " 0.17,\n",
       " 1.3,\n",
       " 0.5700000000000001,\n",
       " 1.1,\n",
       " 0.9,\n",
       " 0.11,\n",
       " 0.85,\n",
       " 1.49,\n",
       " 1.8399999999999999,\n",
       " 0.23,\n",
       " 0.37,\n",
       " 0.15,\n",
       " 1.27,\n",
       " 0.33,\n",
       " 1.01,\n",
       " 1.52,\n",
       " 0.22,\n",
       " 0.06,\n",
       " 1.09,\n",
       " 0.09,\n",
       " 1.79,\n",
       " 1.0,\n",
       " 0.26,\n",
       " 1.23,\n",
       " 1.19,\n",
       " 1.88,\n",
       " 0.09,\n",
       " 0.06,\n",
       " 0.28,\n",
       " 0.63,\n",
       " 0.11,\n",
       " 0.56,\n",
       " 1.55,\n",
       " 1.38,\n",
       " 0.34,\n",
       " 1.6,\n",
       " 0.37,\n",
       " 0.71,\n",
       " 0.54,\n",
       " 1.96,\n",
       " 0.9400000000000001,\n",
       " 1.58,\n",
       " 1.99,\n",
       " 0.21,\n",
       " 0.98,\n",
       " 0.98,\n",
       " 0.49,\n",
       " 0.9500000000000001,\n",
       " 0.91,\n",
       " 0.01,\n",
       " 1.3,\n",
       " 1.37,\n",
       " 0.47000000000000003,\n",
       " 0.3,\n",
       " 0.7000000000000001,\n",
       " 0.89,\n",
       " 1.45,\n",
       " 1.09,\n",
       " 0.47000000000000003,\n",
       " 0.93,\n",
       " 1.57,\n",
       " 1.97,\n",
       " 1.6,\n",
       " 1.83,\n",
       " 0.56,\n",
       " 0.92,\n",
       " 1.34,\n",
       " 0.97,\n",
       " 0.19,\n",
       " 1.82,\n",
       " 0.96,\n",
       " 1.6099999999999999,\n",
       " 0.13,\n",
       " 0.32,\n",
       " 1.54,\n",
       " 0.42,\n",
       " 0.17,\n",
       " 1.9500000000000002,\n",
       " 0.09,\n",
       " 1.25,\n",
       " 0.9,\n",
       " 0.62,\n",
       " 0.2,\n",
       " 1.6600000000000001,\n",
       " 0.29,\n",
       " 1.47,\n",
       " 1.1400000000000001,\n",
       " 1.7000000000000002,\n",
       " 0.34,\n",
       " 0.68,\n",
       " 1.8900000000000001,\n",
       " 0.87,\n",
       " 1.62,\n",
       " 1.5,\n",
       " 0.96,\n",
       " 0.4,\n",
       " 0.12,\n",
       " 0.18,\n",
       " 1.49,\n",
       " 0.96,\n",
       " 0.6900000000000001,\n",
       " 0.88,\n",
       " 1.17,\n",
       " 0.59,\n",
       " 0.3,\n",
       " 1.62,\n",
       " 0.02,\n",
       " 0.08,\n",
       " 1.52,\n",
       " 1.96,\n",
       " 0.45,\n",
       " 1.46,\n",
       " 0.02,\n",
       " 0.97,\n",
       " 0.85,\n",
       " 1.13,\n",
       " 0.52,\n",
       " 0.5700000000000001,\n",
       " 0.92,\n",
       " 0.24,\n",
       " ...]"
      ]
     },
     "execution_count": 136,
     "metadata": {},
     "output_type": "execute_result"
    }
   ],
   "source": [
    "chrome"
   ]
  },
  {
   "cell_type": "code",
   "execution_count": 112,
   "metadata": {},
   "outputs": [
    {
     "data": {
      "text/plain": [
       "array([0.  , 0.01, 0.02, 0.03, 0.04, 0.05, 0.06, 0.07, 0.08, 0.09, 0.1 ,\n",
       "       0.11, 0.12, 0.13, 0.14, 0.15, 0.16, 0.17, 0.18, 0.19, 0.2 , 0.21,\n",
       "       0.22, 0.23, 0.24, 0.25, 0.26, 0.27, 0.28, 0.29, 0.3 , 0.31, 0.32,\n",
       "       0.33, 0.34, 0.35, 0.36, 0.37, 0.38, 0.39, 0.4 , 0.41, 0.42, 0.43,\n",
       "       0.44, 0.45, 0.46, 0.47, 0.48, 0.49, 0.5 , 0.51, 0.52, 0.53, 0.54,\n",
       "       0.55, 0.56, 0.57, 0.58, 0.59, 0.6 , 0.61, 0.62, 0.63, 0.64, 0.65,\n",
       "       0.66, 0.67, 0.68, 0.69, 0.7 , 0.71, 0.72, 0.73, 0.74, 0.75, 0.76,\n",
       "       0.77, 0.78, 0.79, 0.8 , 0.81, 0.82, 0.83, 0.84, 0.85, 0.86, 0.87,\n",
       "       0.88, 0.89, 0.9 , 0.91, 0.92, 0.93, 0.94, 0.95, 0.96, 0.97, 0.98,\n",
       "       0.99])"
      ]
     },
     "execution_count": 112,
     "metadata": {},
     "output_type": "execute_result"
    }
   ],
   "source": [
    "list(np.arange(0, 1, 0.01))"
   ]
  },
  {
   "cell_type": "code",
   "execution_count": 123,
   "metadata": {},
   "outputs": [
    {
     "ename": "TypeError",
     "evalue": "int() argument must be a string, a bytes-like object or a number, not 'list'",
     "output_type": "error",
     "traceback": [
      "\u001b[0;31m---------------------------------------------------------------------------\u001b[0m",
      "\u001b[0;31mTypeError\u001b[0m                                 Traceback (most recent call last)",
      "\u001b[0;32m<ipython-input-123-d5aaff4c67a4>\u001b[0m in \u001b[0;36m<module>\u001b[0;34m()\u001b[0m\n\u001b[0;32m----> 1\u001b[0;31m \u001b[0mint\u001b[0m\u001b[0;34m(\u001b[0m\u001b[0mrandom\u001b[0m\u001b[0;34m.\u001b[0m\u001b[0msample\u001b[0m\u001b[0;34m(\u001b[0m\u001b[0msamples\u001b[0m\u001b[0;34m,\u001b[0m \u001b[0;36m1\u001b[0m\u001b[0;34m)\u001b[0m\u001b[0;34m)\u001b[0m\u001b[0;34m\u001b[0m\u001b[0;34m\u001b[0m\u001b[0m\n\u001b[0m",
      "\u001b[0;31mTypeError\u001b[0m: int() argument must be a string, a bytes-like object or a number, not 'list'"
     ]
    }
   ],
   "source": [
    "random.sample(samples, 1)"
   ]
  },
  {
   "cell_type": "code",
   "execution_count": null,
   "metadata": {},
   "outputs": [],
   "source": []
  }
 ],
 "metadata": {
  "kernelspec": {
   "display_name": "Python 3",
   "language": "python",
   "name": "python3"
  },
  "language_info": {
   "codemirror_mode": {
    "name": "ipython",
    "version": 3
   },
   "file_extension": ".py",
   "mimetype": "text/x-python",
   "name": "python",
   "nbconvert_exporter": "python",
   "pygments_lexer": "ipython3",
   "version": "3.6.7"
  }
 },
 "nbformat": 4,
 "nbformat_minor": 2
}
